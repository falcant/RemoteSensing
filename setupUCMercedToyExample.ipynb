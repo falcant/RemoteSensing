{
 "cells": [
  {
   "cell_type": "code",
   "execution_count": 1,
   "metadata": {
    "collapsed": true,
    "scrolled": true
   },
   "outputs": [],
   "source": [
    "# load smaller sample of UC Merced dataset, and run the example CIFAR network\n",
    "\n",
    "### PREAMBLE ################################################################\n",
    "# allows the images to be displayed in the jupyter notebook\n",
    "%matplotlib inline\n",
    "\n",
    "# torch and torchvision related\n",
    "import torch\n",
    "import torchvision as tv\n",
    "import torchvision.transforms as transforms\n",
    "import torchvision.datasets as datasets\n",
    "\n",
    "from torch.autograd import Variable\n",
    "import torch.nn as nn\n",
    "import torch.nn.functional as F\n",
    "import torch.optim as optim\n",
    "\n",
    "# image library\n",
    "from PIL import Image\n",
    "\n",
    "# some numeric stuff\n",
    "import numpy as np\n",
    "import random\n",
    "import matplotlib.pyplot as plt\n",
    "\n",
    "# file input/output libraries\n",
    "import fnmatch\n",
    "import os\n",
    "\n",
    "# set radom seed\n",
    "random.seed(123);\n",
    "\n",
    "### PATHS ###################################################################\n",
    "\n",
    "pathTrain = './data/UCMerced_4Classes/train/'\n",
    "pathTest = './data/UCMerced_4Classes/test/'\n",
    "\n",
    "### GET LIST OF 10 FILES FROM EACH CLASS ####################################\n",
    "# These I move manually into the \"test\" folder\n",
    "# You can also do it automatically (and should, for all the classes!!)\n",
    "\n",
    "# pathTrainImages = './data/UCMerced_4Classes/train/'\n",
    "# classes = ['beach', 'forest', 'freeway', 'mediumresidential']\n",
    "\n",
    "#for k in range(0,4):\n",
    "#     indices = sorted(random.sample(range(0,100), 10))\n",
    "#     print(indices)\n",
    "#     allFiles = fnmatch.filter(os.listdir(pathTrainImages+classes[k]), '*.tif');\n",
    "#     print(np.array(allFiles)[np.array(indices)])"
   ]
  },
  {
   "cell_type": "code",
   "execution_count": 2,
   "metadata": {
    "collapsed": true
   },
   "outputs": [],
   "source": [
    "# ### CONVERT IMAGES FROM .tif TO .png ########################################\n",
    "# # ugly code, should make function rather than copy the same lines of code\n",
    "# # for Train and Test, as can easily make mistakes\n",
    "\n",
    "# classes = ['beach', 'forest', 'freeway', 'mediumresidential']\n",
    "\n",
    "#for k in range(0,4):\n",
    "#     allTrainFiles = fnmatch.filter(os.listdir(pathTrain+classes[k]), '*.tif');\n",
    "#     allTestFiles = fnmatch.filter(os.listdir(pathTest+classes[k]), '*.tif');\n",
    "#     print(k)\n",
    "#     print(allTrainFiles)\n",
    "#     for j in range(0,len(allTrainFiles)):\n",
    "#         img = Image.open(pathTrain+classes[k]+'/'+allTrainFiles[j])\n",
    "#         newName = os.path.splitext(pathTrain+classes[k]+'/'+allTrainFiles[j])[0]+'.png'\n",
    "#         img.save(newName)\n",
    "#     for j in range(0,len(allTestFiles)):\n",
    "#         img = Image.open(pathTest+classes[k]+'/'+allTestFiles[j])\n",
    "#         newName = os.path.splitext(pathTest+classes[k]+'/'+allTestFiles[j])[0]+'.png'\n",
    "#         img.save(newName)"
   ]
  },
  {
   "cell_type": "code",
   "execution_count": 5,
   "metadata": {},
   "outputs": [
    {
     "ename": "NameError",
     "evalue": "name 'image' is not defined",
     "output_type": "error",
     "traceback": [
      "\u001b[1;31m---------------------------------------------------------------------------\u001b[0m",
      "\u001b[1;31mNameError\u001b[0m                                 Traceback (most recent call last)",
      "\u001b[1;32m<ipython-input-5-2cbc3fd15592>\u001b[0m in \u001b[0;36m<module>\u001b[1;34m()\u001b[0m\n\u001b[1;32m----> 1\u001b[1;33m \u001b[0mimg\u001b[0m \u001b[1;33m=\u001b[0m \u001b[0mimage\u001b[0m\u001b[1;33m.\u001b[0m\u001b[0mopen\u001b[0m\u001b[1;33m(\u001b[0m\u001b[0mpathTrain\u001b[0m\u001b[1;33m+\u001b[0m\u001b[1;34m'beach/beach00.png'\u001b[0m\u001b[1;33m)\u001b[0m\u001b[1;33m\u001b[0m\u001b[0m\n\u001b[0m\u001b[0;32m      2\u001b[0m \u001b[0mimg\u001b[0m\u001b[1;33m.\u001b[0m\u001b[0mtype\u001b[0m\u001b[1;33m(\u001b[0m\u001b[1;33m)\u001b[0m\u001b[1;33m\u001b[0m\u001b[0m\n",
      "\u001b[1;31mNameError\u001b[0m: name 'image' is not defined"
     ]
    }
   ],
   "source": [
    "img = image.open(pathTrain+'beach/beach00.png')\n",
    "type(im)"
   ]
  },
  {
   "cell_type": "code",
   "execution_count": 10,
   "metadata": {
    "collapsed": true
   },
   "outputs": [],
   "source": [
    "# write what the transforms should be\n",
    "# From website: Normalize an tensor image with mean and standard deviation. \n",
    "# Given mean: (M1,...,Mn)  and std: (S1,..,Sn) for n channels, this transform \n",
    "# will normalize each channel of the input\n",
    "# for some reason resize has to come before ToTensor\n",
    "transform = transforms.Compose(\n",
    "    [transforms.Resize(size=32),\n",
    "     transforms.ToTensor(), \n",
    "     transforms.Normalize((0.5, 0.5, 0.5), (0.5, 0.5, 0.5))])\n",
    "\n",
    "# load the train and test dataset\n",
    "trainset = datasets.ImageFolder(root=pathTrain,transform=transform)\n",
    "trainloader = torch.utils.data.DataLoader(trainset, batch_size=4,shuffle=True, num_workers=2)\n",
    "\n",
    "testset = datasets.ImageFolder(root=pathTest, transform=transform)\n",
    "testloader = torch.utils.data.DataLoader(testset, batch_size=4,shuffle=True, num_workers=2)\n",
    "\n",
    "classes = ('beach', 'forest', 'freeway', 'mediumresidential')"
   ]
  },
  {
   "cell_type": "code",
   "execution_count": 11,
   "metadata": {},
   "outputs": [
    {
     "name": "stdout",
     "output_type": "stream",
     "text": [
      "mediumresidential freeway mediumresidential forest\n"
     ]
    },
    {
     "data": {
      "image/png": "[encoded data removed]",
      "text/plain": [
       "<matplotlib.figure.Figure at 0xfb3cd81160>"
      ]
     },
     "metadata": {},
     "output_type": "display_data"
    }
   ],
   "source": [
    "### PRINT IMAGES TO SCREEN TO VISUALIZE ####################################\n",
    "\n",
    "# functions to show an image\n",
    "def imshow(img):\n",
    "    img = img / 2 + 0.5     # unnormalize\n",
    "    npimg = img.numpy()\n",
    "    plt.imshow(np.transpose(npimg, (1, 2, 0)))\n",
    "    \n",
    "# get some random training images\n",
    "dataiter = iter(trainloader)\n",
    "images, labels = dataiter.next()\n",
    "\n",
    "# show images\n",
    "imshow(tv.utils.make_grid(images))\n",
    "# print labels\n",
    "print(' '.join('%5s' % classes[labels[j]] for j in range(4)))"
   ]
  },
  {
   "cell_type": "code",
   "execution_count": 139,
   "metadata": {
    "collapsed": true
   },
   "outputs": [],
   "source": [
    "### NETWORK ARCHITECTURE #############################################\n",
    "\n",
    "class Net(nn.Module):\n",
    "    def __init__(self):\n",
    "        super(Net, self).__init__()\n",
    "        self.conv1 = nn.Conv2d(3, 6, 5)\n",
    "        self.pool = nn.MaxPool2d(2, 2)\n",
    "        self.conv2 = nn.Conv2d(6, 16, 5)\n",
    "        self.fc1 = nn.Linear(16 * 5 * 5, 120)\n",
    "        self.fc2 = nn.Linear(120, 84)\n",
    "        self.fc3 = nn.Linear(84, 4)\n",
    "\n",
    "    def forward(self, x):\n",
    "        x = self.pool(F.relu(self.conv1(x)))\n",
    "        x = self.pool(F.relu(self.conv2(x)))\n",
    "        x = x.view(-1, 16 * 5 * 5)\n",
    "        x = F.relu(self.fc1(x))\n",
    "        x = F.relu(self.fc2(x))\n",
    "        x = self.fc3(x)\n",
    "        return x\n",
    "\n",
    "net = Net()"
   ]
  },
  {
   "cell_type": "code",
   "execution_count": 140,
   "metadata": {},
   "outputs": [
    {
     "data": {
      "text/plain": [
       "Net(\n",
       "  (conv1): Conv2d (3, 6, kernel_size=(5, 5), stride=(1, 1))\n",
       "  (pool): MaxPool2d(kernel_size=(2, 2), stride=(2, 2), dilation=(1, 1))\n",
       "  (conv2): Conv2d (6, 16, kernel_size=(5, 5), stride=(1, 1))\n",
       "  (fc1): Linear(in_features=400, out_features=120)\n",
       "  (fc2): Linear(in_features=120, out_features=84)\n",
       "  (fc3): Linear(in_features=84, out_features=4)\n",
       ")"
      ]
     },
     "execution_count": 140,
     "metadata": {},
     "output_type": "execute_result"
    }
   ],
   "source": [
    "# print out the network structure\n",
    "net"
   ]
  },
  {
   "cell_type": "code",
   "execution_count": 141,
   "metadata": {},
   "outputs": [
    {
     "name": "stdout",
     "output_type": "stream",
     "text": [
      "[1,     5] loss: 0.004\n",
      "[1,    10] loss: 0.003\n",
      "[1,    15] loss: 0.003\n",
      "[1,    20] loss: 0.003\n",
      "[1,    25] loss: 0.003\n",
      "[1,    30] loss: 0.003\n",
      "[1,    35] loss: 0.003\n",
      "[1,    40] loss: 0.003\n",
      "[1,    45] loss: 0.003\n",
      "[1,    50] loss: 0.003\n",
      "[1,    55] loss: 0.003\n",
      "[1,    60] loss: 0.003\n",
      "[1,    65] loss: 0.003\n",
      "[1,    70] loss: 0.003\n",
      "[1,    75] loss: 0.003\n",
      "[1,    80] loss: 0.003\n",
      "[1,    85] loss: 0.003\n",
      "[1,    90] loss: 0.003\n",
      "[2,     5] loss: 0.003\n",
      "[2,    10] loss: 0.003\n",
      "[2,    15] loss: 0.003\n",
      "[2,    20] loss: 0.003\n",
      "[2,    25] loss: 0.003\n",
      "[2,    30] loss: 0.003\n",
      "[2,    35] loss: 0.003\n",
      "[2,    40] loss: 0.003\n",
      "[2,    45] loss: 0.003\n",
      "[2,    50] loss: 0.003\n",
      "[2,    55] loss: 0.003\n",
      "[2,    60] loss: 0.003\n",
      "[2,    65] loss: 0.003\n",
      "[2,    70] loss: 0.003\n",
      "[2,    75] loss: 0.003\n",
      "[2,    80] loss: 0.003\n",
      "[2,    85] loss: 0.003\n",
      "[2,    90] loss: 0.003\n",
      "[3,     5] loss: 0.003\n",
      "[3,    10] loss: 0.003\n",
      "[3,    15] loss: 0.003\n",
      "[3,    20] loss: 0.003\n",
      "[3,    25] loss: 0.003\n",
      "[3,    30] loss: 0.003\n",
      "[3,    35] loss: 0.003\n",
      "[3,    40] loss: 0.003\n",
      "[3,    45] loss: 0.003\n",
      "[3,    50] loss: 0.003\n",
      "[3,    55] loss: 0.003\n",
      "[3,    60] loss: 0.003\n",
      "[3,    65] loss: 0.003\n",
      "[3,    70] loss: 0.003\n",
      "[3,    75] loss: 0.003\n",
      "[3,    80] loss: 0.003\n",
      "[3,    85] loss: 0.003\n",
      "[3,    90] loss: 0.003\n",
      "Finished Training\n"
     ]
    }
   ],
   "source": [
    "### TRAIN NETWORK ######################################################\n",
    "\n",
    "criterion = nn.CrossEntropyLoss()\n",
    "optimizer = optim.SGD(net.parameters(), lr=0.001, momentum=0.9)\n",
    "\n",
    "for epoch in range(3):  # loop over the dataset multiple times\n",
    "\n",
    "    running_loss = 0.0\n",
    "    for i, data in enumerate(trainloader, 0):\n",
    "        # get the inputs\n",
    "        inputs, labels = data\n",
    "\n",
    "        # wrap them in Variable\n",
    "        inputs, labels = Variable(inputs), Variable(labels)\n",
    "\n",
    "        # zero the parameter gradients\n",
    "        optimizer.zero_grad()\n",
    "\n",
    "        # forward + backward + optimize\n",
    "        outputs = net(inputs)\n",
    "        loss = criterion(outputs, labels)\n",
    "        loss.backward()\n",
    "        optimizer.step()\n",
    "\n",
    "        # print statistics\n",
    "        running_loss += loss.data[0]\n",
    "        if i % 5 == 4:    # print every 5 mini-batches\n",
    "            print('[%d, %5d] loss: %.3f' %\n",
    "                  (epoch + 1, i + 1, running_loss / 2000))\n",
    "            running_loss = 0.0\n",
    "\n",
    "print('Finished Training')"
   ]
  },
  {
   "cell_type": "code",
   "execution_count": 142,
   "metadata": {},
   "outputs": [
    {
     "name": "stdout",
     "output_type": "stream",
     "text": [
      "GroundTruth:  mediumresidential beach freeway mediumresidential\n",
      "Predicted:  mediumresidential mediumresidential freeway mediumresidential\n"
     ]
    },
    {
     "data": {
      "image/png": "[encoded data removed]",
      "text/plain": [
       "<matplotlib.figure.Figure at 0x289cfeafa58>"
      ]
     },
     "metadata": {},
     "output_type": "display_data"
    }
   ],
   "source": [
    "### CHECK ON TEST DATA ###############################################\n",
    "\n",
    "dataiter = iter(testloader)\n",
    "images, labels = dataiter.next()\n",
    "\n",
    "# print images\n",
    "imshow(torchvision.utils.make_grid(images))\n",
    "print('GroundTruth: ', ' '.join('%5s' % classes[labels[j]] for j in range(4)))\n",
    "\n",
    "outputs = net(Variable(images))\n",
    "_, predicted = torch.max(outputs.data, 1)\n",
    "\n",
    "print('Predicted: ', ' '.join('%5s' % classes[predicted[j]]\n",
    "                              for j in range(4)))"
   ]
  },
  {
   "cell_type": "code",
   "execution_count": null,
   "metadata": {
    "collapsed": true
   },
   "outputs": [],
   "source": []
  }
 ],
 "metadata": {
  "kernelspec": {
   "display_name": "Python 3",
   "language": "python",
   "name": "python3"
  },
  "language_info": {
   "codemirror_mode": {
    "name": "ipython",
    "version": 3
   },
   "file_extension": ".py",
   "mimetype": "text/x-python",
   "name": "python",
   "nbconvert_exporter": "python",
   "pygments_lexer": "ipython3",
   "version": "3.6.3"
  }
 },
 "nbformat": 4,
 "nbformat_minor": 2
}
